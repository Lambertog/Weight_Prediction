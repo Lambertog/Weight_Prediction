{
 "cells": [
  {
   "cell_type": "markdown",
   "id": "7deb57b5",
   "metadata": {},
   "source": [
    "#### INTRODUCTION"
   ]
  },
  {
   "cell_type": "markdown",
   "id": "55a1f817",
   "metadata": {},
   "source": [
    "Bias: \n",
    "    \n",
    "    The difference between an actual values and average predictede values.\n",
    "    High bias means high error in the model. This type of biasness does not work both on training and testing data\n",
    "    \n",
    "Variance:\n",
    "    • Variance tells how the trained model will change on new testing data.\n",
    "    High variance performs well on only training data and fail on test data. This is simply overfitting."
   ]
  },
  {
   "cell_type": "markdown",
   "id": "639fe46e",
   "metadata": {},
   "source": [
    "#### REGULARIZATION"
   ]
  },
  {
   "cell_type": "markdown",
   "id": "e564364f",
   "metadata": {},
   "source": [
    "Regularization helps to solve the problem of overfitting and high variance. Also, to avoid model complexity by shrinking or reducing the values of the coefficients.\n",
    "It simplifies a model by adding a penalty.\n",
    "\n",
    "Regularization has two techniques: Ridge and Lasso regression."
   ]
  },
  {
   "cell_type": "code",
   "execution_count": null,
   "id": "9fa144f7",
   "metadata": {},
   "outputs": [],
   "source": []
  },
  {
   "cell_type": "markdown",
   "id": "9389f317",
   "metadata": {},
   "source": [
    "### RIDGE REGRESSION"
   ]
  },
  {
   "cell_type": "markdown",
   "id": "d4a3f4d9",
   "metadata": {},
   "source": [
    "Ridge Regression idea: If data does not fit well on the testing data,then it should also not fit well on the training data as well.\n",
    "\n",
    "In this way, Ridge regression will find a new line which will not fit the training data as well by introducing a small amount of bias.\n",
    "\n",
    "Ridge Regression is a technique used to avoid data complexities from multicollinearity (independent variables are highly correlated). Multicollinearity essentially occurs when there are high correlations between more than two predicted variables.\n",
    "https://www.engati.com/glossary/ridge-regression#:~:text=Ridge%20Regression%20is%20a%20technique,shrinkage%20parameter%20λ%20(lambda)\n"
   ]
  },
  {
   "cell_type": "markdown",
   "id": "1cc033d2",
   "metadata": {},
   "source": [
    "### This section will compare the performances of linear, Ridge and Lasso regressions."
   ]
  },
  {
   "cell_type": "code",
   "execution_count": 42,
   "id": "58d3107d",
   "metadata": {},
   "outputs": [],
   "source": [
    "# Import the libraries needed\n",
    "\n",
    "import pandas as pd\n",
    "from sklearn.model_selection import train_test_split\n",
    "from sklearn.linear_model import LinearRegression\n",
    "import numpy as np\n",
    "import matplotlib.pyplot as plt"
   ]
  },
  {
   "cell_type": "code",
   "execution_count": 43,
   "id": "4b6602b3",
   "metadata": {},
   "outputs": [
    {
     "data": {
      "text/html": [
       "<div>\n",
       "<style scoped>\n",
       "    .dataframe tbody tr th:only-of-type {\n",
       "        vertical-align: middle;\n",
       "    }\n",
       "\n",
       "    .dataframe tbody tr th {\n",
       "        vertical-align: top;\n",
       "    }\n",
       "\n",
       "    .dataframe thead th {\n",
       "        text-align: right;\n",
       "    }\n",
       "</style>\n",
       "<table border=\"1\" class=\"dataframe\">\n",
       "  <thead>\n",
       "    <tr style=\"text-align: right;\">\n",
       "      <th></th>\n",
       "      <th>Height</th>\n",
       "      <th>Weight</th>\n",
       "    </tr>\n",
       "  </thead>\n",
       "  <tbody>\n",
       "    <tr>\n",
       "      <th>0</th>\n",
       "      <td>170.0</td>\n",
       "      <td>60.000</td>\n",
       "    </tr>\n",
       "    <tr>\n",
       "      <th>1</th>\n",
       "      <td>169.6</td>\n",
       "      <td>59.100</td>\n",
       "    </tr>\n",
       "    <tr>\n",
       "      <th>2</th>\n",
       "      <td>168.4</td>\n",
       "      <td>58.170</td>\n",
       "    </tr>\n",
       "    <tr>\n",
       "      <th>3</th>\n",
       "      <td>162.0</td>\n",
       "      <td>54.000</td>\n",
       "    </tr>\n",
       "    <tr>\n",
       "      <th>4</th>\n",
       "      <td>163.0</td>\n",
       "      <td>55.500</td>\n",
       "    </tr>\n",
       "    <tr>\n",
       "      <th>5</th>\n",
       "      <td>169.0</td>\n",
       "      <td>59.600</td>\n",
       "    </tr>\n",
       "    <tr>\n",
       "      <th>6</th>\n",
       "      <td>162.5</td>\n",
       "      <td>55.250</td>\n",
       "    </tr>\n",
       "    <tr>\n",
       "      <th>7</th>\n",
       "      <td>169.1</td>\n",
       "      <td>58.733</td>\n",
       "    </tr>\n",
       "    <tr>\n",
       "      <th>8</th>\n",
       "      <td>169.0</td>\n",
       "      <td>58.500</td>\n",
       "    </tr>\n",
       "    <tr>\n",
       "      <th>9</th>\n",
       "      <td>163.0</td>\n",
       "      <td>55.700</td>\n",
       "    </tr>\n",
       "  </tbody>\n",
       "</table>\n",
       "</div>"
      ],
      "text/plain": [
       "   Height  Weight\n",
       "0   170.0  60.000\n",
       "1   169.6  59.100\n",
       "2   168.4  58.170\n",
       "3   162.0  54.000\n",
       "4   163.0  55.500\n",
       "5   169.0  59.600\n",
       "6   162.5  55.250\n",
       "7   169.1  58.733\n",
       "8   169.0  58.500\n",
       "9   163.0  55.700"
      ]
     },
     "execution_count": 43,
     "metadata": {},
     "output_type": "execute_result"
    }
   ],
   "source": [
    "# import the dataset\n",
    "dataset = pd.read_csv('/Users/lambertagunbiade/Desktop/SUPERVISED MACHINE LEARNING /Weight.csv')\n",
    "dataset"
   ]
  },
  {
   "cell_type": "markdown",
   "id": "b85ae828",
   "metadata": {},
   "source": [
    "This is a dataset of height (in cm) and expected weight(kg) of an individual respectively."
   ]
  },
  {
   "cell_type": "markdown",
   "id": "ab4d83d5",
   "metadata": {},
   "source": [
    "#### Separate the target(price) variable from the predictors"
   ]
  },
  {
   "cell_type": "code",
   "execution_count": 44,
   "id": "07001a78",
   "metadata": {},
   "outputs": [],
   "source": [
    "X = dataset.iloc[0:,0].values  # height of an individual\n",
    "Y = dataset.iloc[0:,1].values  # weight of an individual"
   ]
  },
  {
   "cell_type": "markdown",
   "id": "9c8c8d06",
   "metadata": {},
   "source": [
    "##### First, let us build a linear model, predict and see R square value."
   ]
  },
  {
   "cell_type": "code",
   "execution_count": 45,
   "id": "773acc6d",
   "metadata": {},
   "outputs": [],
   "source": [
    "# Split the data set into training and testing data\n",
    "\n",
    "X_train,X_test, Y_train, Y_test = train_test_split(X,Y, test_size=0.6, random_state=0)"
   ]
  },
  {
   "cell_type": "markdown",
   "id": "fb5acbff",
   "metadata": {},
   "source": [
    "To buttress our point, we chose the test data to be of a higher ratio (0.6) to the training data."
   ]
  },
  {
   "cell_type": "markdown",
   "id": "ef3ff32f",
   "metadata": {},
   "source": [
    "#### Transform the training and testing data into a two dimentional array"
   ]
  },
  {
   "cell_type": "code",
   "execution_count": 46,
   "id": "258cd409",
   "metadata": {},
   "outputs": [],
   "source": [
    "X_train1 = np.reshape(X_train, (-1,1))\n",
    "Y_train1 = np.reshape(Y_train, (-1,1))\n",
    "\n",
    "X_test1 = np.reshape(X_test, (-1,1))\n",
    "Y_test1 = np.reshape(Y_test, (-1,1))"
   ]
  },
  {
   "cell_type": "markdown",
   "id": "393f7794",
   "metadata": {},
   "source": [
    "### Instantiate the linear regression class and fit the model on the training data\n"
   ]
  },
  {
   "cell_type": "code",
   "execution_count": 47,
   "id": "1dae95de",
   "metadata": {},
   "outputs": [
    {
     "data": {
      "text/html": [
       "<style>#sk-container-id-5 {color: black;}#sk-container-id-5 pre{padding: 0;}#sk-container-id-5 div.sk-toggleable {background-color: white;}#sk-container-id-5 label.sk-toggleable__label {cursor: pointer;display: block;width: 100%;margin-bottom: 0;padding: 0.3em;box-sizing: border-box;text-align: center;}#sk-container-id-5 label.sk-toggleable__label-arrow:before {content: \"▸\";float: left;margin-right: 0.25em;color: #696969;}#sk-container-id-5 label.sk-toggleable__label-arrow:hover:before {color: black;}#sk-container-id-5 div.sk-estimator:hover label.sk-toggleable__label-arrow:before {color: black;}#sk-container-id-5 div.sk-toggleable__content {max-height: 0;max-width: 0;overflow: hidden;text-align: left;background-color: #f0f8ff;}#sk-container-id-5 div.sk-toggleable__content pre {margin: 0.2em;color: black;border-radius: 0.25em;background-color: #f0f8ff;}#sk-container-id-5 input.sk-toggleable__control:checked~div.sk-toggleable__content {max-height: 200px;max-width: 100%;overflow: auto;}#sk-container-id-5 input.sk-toggleable__control:checked~label.sk-toggleable__label-arrow:before {content: \"▾\";}#sk-container-id-5 div.sk-estimator input.sk-toggleable__control:checked~label.sk-toggleable__label {background-color: #d4ebff;}#sk-container-id-5 div.sk-label input.sk-toggleable__control:checked~label.sk-toggleable__label {background-color: #d4ebff;}#sk-container-id-5 input.sk-hidden--visually {border: 0;clip: rect(1px 1px 1px 1px);clip: rect(1px, 1px, 1px, 1px);height: 1px;margin: -1px;overflow: hidden;padding: 0;position: absolute;width: 1px;}#sk-container-id-5 div.sk-estimator {font-family: monospace;background-color: #f0f8ff;border: 1px dotted black;border-radius: 0.25em;box-sizing: border-box;margin-bottom: 0.5em;}#sk-container-id-5 div.sk-estimator:hover {background-color: #d4ebff;}#sk-container-id-5 div.sk-parallel-item::after {content: \"\";width: 100%;border-bottom: 1px solid gray;flex-grow: 1;}#sk-container-id-5 div.sk-label:hover label.sk-toggleable__label {background-color: #d4ebff;}#sk-container-id-5 div.sk-serial::before {content: \"\";position: absolute;border-left: 1px solid gray;box-sizing: border-box;top: 0;bottom: 0;left: 50%;z-index: 0;}#sk-container-id-5 div.sk-serial {display: flex;flex-direction: column;align-items: center;background-color: white;padding-right: 0.2em;padding-left: 0.2em;position: relative;}#sk-container-id-5 div.sk-item {position: relative;z-index: 1;}#sk-container-id-5 div.sk-parallel {display: flex;align-items: stretch;justify-content: center;background-color: white;position: relative;}#sk-container-id-5 div.sk-item::before, #sk-container-id-5 div.sk-parallel-item::before {content: \"\";position: absolute;border-left: 1px solid gray;box-sizing: border-box;top: 0;bottom: 0;left: 50%;z-index: -1;}#sk-container-id-5 div.sk-parallel-item {display: flex;flex-direction: column;z-index: 1;position: relative;background-color: white;}#sk-container-id-5 div.sk-parallel-item:first-child::after {align-self: flex-end;width: 50%;}#sk-container-id-5 div.sk-parallel-item:last-child::after {align-self: flex-start;width: 50%;}#sk-container-id-5 div.sk-parallel-item:only-child::after {width: 0;}#sk-container-id-5 div.sk-dashed-wrapped {border: 1px dashed gray;margin: 0 0.4em 0.5em 0.4em;box-sizing: border-box;padding-bottom: 0.4em;background-color: white;}#sk-container-id-5 div.sk-label label {font-family: monospace;font-weight: bold;display: inline-block;line-height: 1.2em;}#sk-container-id-5 div.sk-label-container {text-align: center;}#sk-container-id-5 div.sk-container {/* jupyter's `normalize.less` sets `[hidden] { display: none; }` but bootstrap.min.css set `[hidden] { display: none !important; }` so we also need the `!important` here to be able to override the default hidden behavior on the sphinx rendered scikit-learn.org. See: https://github.com/scikit-learn/scikit-learn/issues/21755 */display: inline-block !important;position: relative;}#sk-container-id-5 div.sk-text-repr-fallback {display: none;}</style><div id=\"sk-container-id-5\" class=\"sk-top-container\"><div class=\"sk-text-repr-fallback\"><pre>LinearRegression()</pre><b>In a Jupyter environment, please rerun this cell to show the HTML representation or trust the notebook. <br />On GitHub, the HTML representation is unable to render, please try loading this page with nbviewer.org.</b></div><div class=\"sk-container\" hidden><div class=\"sk-item\"><div class=\"sk-estimator sk-toggleable\"><input class=\"sk-toggleable__control sk-hidden--visually\" id=\"sk-estimator-id-5\" type=\"checkbox\" checked><label for=\"sk-estimator-id-5\" class=\"sk-toggleable__label sk-toggleable__label-arrow\">LinearRegression</label><div class=\"sk-toggleable__content\"><pre>LinearRegression()</pre></div></div></div></div></div>"
      ],
      "text/plain": [
       "LinearRegression()"
      ]
     },
     "execution_count": 47,
     "metadata": {},
     "output_type": "execute_result"
    }
   ],
   "source": [
    "lin_regressor = LinearRegression()\n",
    "\n",
    "# fit the transformed form of our training data\n",
    "lin_regressor.fit(X_train1, Y_train1)"
   ]
  },
  {
   "cell_type": "markdown",
   "id": "7cf32149",
   "metadata": {},
   "source": [
    "#### Model prediction"
   ]
  },
  {
   "cell_type": "code",
   "execution_count": 48,
   "id": "6cee9309",
   "metadata": {},
   "outputs": [],
   "source": [
    "# Training data predicition\n",
    "y_pred_train1 = lin_regressor.predict(X_train1)\n",
    "# Test data prediction\n",
    "y_pred_test1 = lin_regressor.predict(X_test1)"
   ]
  },
  {
   "cell_type": "code",
   "execution_count": 49,
   "id": "179827ad",
   "metadata": {},
   "outputs": [
    {
     "name": "stdout",
     "output_type": "stream",
     "text": [
      "Actual weight\n",
      "\n",
      " [[58.17]\n",
      " [58.5 ]\n",
      " [55.5 ]\n",
      " [55.7 ]\n",
      " [59.1 ]\n",
      " [55.25]] \n",
      "\n",
      " Predicted weight\n",
      "\n",
      " [[58.73]\n",
      " [59.17]\n",
      " [54.74]\n",
      " [54.74]\n",
      " [59.62]\n",
      " [54.37]]\n"
     ]
    }
   ],
   "source": [
    "print('Actual weight\\n\\n', Y_test1,'\\n\\n Predicted weight\\n\\n', y_pred_test1.round(2))"
   ]
  },
  {
   "cell_type": "markdown",
   "id": "482aecf4",
   "metadata": {},
   "source": [
    "The model looks perfect for the predicition of weight of an individual with respect to the height but let us view this in a scatterplot for both the training and testing data."
   ]
  },
  {
   "cell_type": "markdown",
   "id": "b3aaf222",
   "metadata": {},
   "source": [
    "#### Scatterplot for training data"
   ]
  },
  {
   "cell_type": "code",
   "execution_count": 50,
   "id": "3f7b4f5f",
   "metadata": {},
   "outputs": [
    {
     "data": {
      "image/png": "[encoded data removed]",
      "text/plain": [
       "<Figure size 640x480 with 1 Axes>"
      ]
     },
     "metadata": {},
     "output_type": "display_data"
    }
   ],
   "source": [
    "plt.scatter(X_train1,Y_train1, color='blue')\n",
    "\n",
    "# recall that, regression line is a prediction line. Hence, the second object has to be the predicted function of the dataset\n",
    "plt.plot(X_train1,lin_regressor.predict(X_train1),color='red') \n",
    "        \n",
    "plt.xlabel('Height (cm)')\n",
    "plt.ylabel('Weight (kg)')\n",
    "plt.title('Weight VS Height')\n",
    "\n",
    "plt.show()"
   ]
  },
  {
   "cell_type": "markdown",
   "id": "4ee0e252",
   "metadata": {},
   "source": [
    "The model shows a good fit for the training data as the data points are very close to the regression line.\n",
    "Let us see the r square value for the training data."
   ]
  },
  {
   "cell_type": "markdown",
   "id": "fc619714",
   "metadata": {},
   "source": [
    "#### R Square value"
   ]
  },
  {
   "cell_type": "code",
   "execution_count": 51,
   "id": "70a3d6d7",
   "metadata": {},
   "outputs": [],
   "source": [
    "# Import r sqaured library and create an object of it thus;\n",
    "from sklearn.metrics import r2_score"
   ]
  },
  {
   "cell_type": "code",
   "execution_count": 52,
   "id": "2ef43926",
   "metadata": {},
   "outputs": [
    {
     "data": {
      "text/plain": [
       "0.98"
      ]
     },
     "execution_count": 52,
     "metadata": {},
     "output_type": "execute_result"
    }
   ],
   "source": [
    "# R_Squared value for the trained and predicted trained values\n",
    "r_square_test = r2_score(Y_train1,y_pred_train1)\n",
    "r_square_test.round(2)"
   ]
  },
  {
   "cell_type": "markdown",
   "id": "b37f3c8b",
   "metadata": {},
   "source": [
    "The r sqaure value is 98%."
   ]
  },
  {
   "cell_type": "markdown",
   "id": "33447af0",
   "metadata": {},
   "source": [
    "#### Scatterpot and R square value for test data "
   ]
  },
  {
   "cell_type": "code",
   "execution_count": 54,
   "id": "bf322f7c",
   "metadata": {},
   "outputs": [
    {
     "data": {
      "image/png": "[encoded data removed]",
      "text/plain": [
       "<Figure size 640x480 with 1 Axes>"
      ]
     },
     "metadata": {},
     "output_type": "display_data"
    }
   ],
   "source": [
    "plt.scatter(X_test1,Y_test1, color='blue')\n",
    "\n",
    "# recall that, regression line is a prediction line. Hence, the second object has to be the predicted function of the dataset\n",
    "plt.plot(X_test1,lin_regressor.predict(X_test1),color='red') \n",
    "        \n",
    "plt.xlabel('Height (cm)')\n",
    "plt.ylabel('Weight (kg)')\n",
    "plt.title('Weight VS Height')\n",
    "\n",
    "plt.show()"
   ]
  },
  {
   "cell_type": "markdown",
   "id": "7127a353",
   "metadata": {},
   "source": [
    "The model performance the test data can not be compared to that of the training data. The data points are not very close. Let us see the r square value."
   ]
  },
  {
   "cell_type": "code",
   "execution_count": 55,
   "id": "20a2cd32",
   "metadata": {},
   "outputs": [
    {
     "data": {
      "text/plain": [
       "0.78"
      ]
     },
     "execution_count": 55,
     "metadata": {},
     "output_type": "execute_result"
    }
   ],
   "source": [
    "# R_Squared value for the trained and predicted trained values\n",
    "r_square_test = r2_score(Y_test1,y_pred_test1)\n",
    "r_square_test.round(2)"
   ]
  },
  {
   "cell_type": "code",
   "execution_count": null,
   "id": "da3d6d6f",
   "metadata": {},
   "outputs": [],
   "source": []
  },
  {
   "cell_type": "markdown",
   "id": "147f5882",
   "metadata": {},
   "source": [
    "The R Square value of the test data is not too bad, however,one can tell the discrepancy between the R square value between training and testing data.\n",
    "\n",
    "The penalty(Value of Alpha) in Ridge regression will reduce the overfitting in the training data and improve the model performance performance on the testing data in the next session."
   ]
  },
  {
   "cell_type": "code",
   "execution_count": null,
   "id": "9302f78d",
   "metadata": {},
   "outputs": [],
   "source": []
  },
  {
   "cell_type": "code",
   "execution_count": null,
   "id": "059137be",
   "metadata": {},
   "outputs": [],
   "source": []
  },
  {
   "cell_type": "code",
   "execution_count": null,
   "id": "5dc64a27",
   "metadata": {},
   "outputs": [],
   "source": []
  },
  {
   "cell_type": "code",
   "execution_count": null,
   "id": "a18d5974",
   "metadata": {},
   "outputs": [],
   "source": []
  },
  {
   "cell_type": "markdown",
   "id": "7f02653d",
   "metadata": {},
   "source": [
    "### RIDGE REGRESSION"
   ]
  },
  {
   "cell_type": "code",
   "execution_count": 77,
   "id": "ad377659",
   "metadata": {},
   "outputs": [],
   "source": [
    "# import the ridge regression class\n",
    "from sklearn.linear_model import Ridge"
   ]
  },
  {
   "cell_type": "markdown",
   "id": "10d14dcb",
   "metadata": {},
   "source": [
    "### Now train the model with the imported ridge regression class and pass alpha as the argument.\n",
    "\n",
    "NOTE: Try different values of alpha. Select the one with the least difference between the values of r square of the training and testing data. \n",
    "\n",
    "Note: The higher the value of Alpha(penalty), the further over fitted training data points will move from the regression line. In this case, Alpha = 9 gave the best proximity in the variation between the training and testing data R Squared values."
   ]
  },
  {
   "cell_type": "code",
   "execution_count": 78,
   "id": "a9bfa059",
   "metadata": {},
   "outputs": [
    {
     "data": {
      "text/html": [
       "<style>#sk-container-id-8 {color: black;}#sk-container-id-8 pre{padding: 0;}#sk-container-id-8 div.sk-toggleable {background-color: white;}#sk-container-id-8 label.sk-toggleable__label {cursor: pointer;display: block;width: 100%;margin-bottom: 0;padding: 0.3em;box-sizing: border-box;text-align: center;}#sk-container-id-8 label.sk-toggleable__label-arrow:before {content: \"▸\";float: left;margin-right: 0.25em;color: #696969;}#sk-container-id-8 label.sk-toggleable__label-arrow:hover:before {color: black;}#sk-container-id-8 div.sk-estimator:hover label.sk-toggleable__label-arrow:before {color: black;}#sk-container-id-8 div.sk-toggleable__content {max-height: 0;max-width: 0;overflow: hidden;text-align: left;background-color: #f0f8ff;}#sk-container-id-8 div.sk-toggleable__content pre {margin: 0.2em;color: black;border-radius: 0.25em;background-color: #f0f8ff;}#sk-container-id-8 input.sk-toggleable__control:checked~div.sk-toggleable__content {max-height: 200px;max-width: 100%;overflow: auto;}#sk-container-id-8 input.sk-toggleable__control:checked~label.sk-toggleable__label-arrow:before {content: \"▾\";}#sk-container-id-8 div.sk-estimator input.sk-toggleable__control:checked~label.sk-toggleable__label {background-color: #d4ebff;}#sk-container-id-8 div.sk-label input.sk-toggleable__control:checked~label.sk-toggleable__label {background-color: #d4ebff;}#sk-container-id-8 input.sk-hidden--visually {border: 0;clip: rect(1px 1px 1px 1px);clip: rect(1px, 1px, 1px, 1px);height: 1px;margin: -1px;overflow: hidden;padding: 0;position: absolute;width: 1px;}#sk-container-id-8 div.sk-estimator {font-family: monospace;background-color: #f0f8ff;border: 1px dotted black;border-radius: 0.25em;box-sizing: border-box;margin-bottom: 0.5em;}#sk-container-id-8 div.sk-estimator:hover {background-color: #d4ebff;}#sk-container-id-8 div.sk-parallel-item::after {content: \"\";width: 100%;border-bottom: 1px solid gray;flex-grow: 1;}#sk-container-id-8 div.sk-label:hover label.sk-toggleable__label {background-color: #d4ebff;}#sk-container-id-8 div.sk-serial::before {content: \"\";position: absolute;border-left: 1px solid gray;box-sizing: border-box;top: 0;bottom: 0;left: 50%;z-index: 0;}#sk-container-id-8 div.sk-serial {display: flex;flex-direction: column;align-items: center;background-color: white;padding-right: 0.2em;padding-left: 0.2em;position: relative;}#sk-container-id-8 div.sk-item {position: relative;z-index: 1;}#sk-container-id-8 div.sk-parallel {display: flex;align-items: stretch;justify-content: center;background-color: white;position: relative;}#sk-container-id-8 div.sk-item::before, #sk-container-id-8 div.sk-parallel-item::before {content: \"\";position: absolute;border-left: 1px solid gray;box-sizing: border-box;top: 0;bottom: 0;left: 50%;z-index: -1;}#sk-container-id-8 div.sk-parallel-item {display: flex;flex-direction: column;z-index: 1;position: relative;background-color: white;}#sk-container-id-8 div.sk-parallel-item:first-child::after {align-self: flex-end;width: 50%;}#sk-container-id-8 div.sk-parallel-item:last-child::after {align-self: flex-start;width: 50%;}#sk-container-id-8 div.sk-parallel-item:only-child::after {width: 0;}#sk-container-id-8 div.sk-dashed-wrapped {border: 1px dashed gray;margin: 0 0.4em 0.5em 0.4em;box-sizing: border-box;padding-bottom: 0.4em;background-color: white;}#sk-container-id-8 div.sk-label label {font-family: monospace;font-weight: bold;display: inline-block;line-height: 1.2em;}#sk-container-id-8 div.sk-label-container {text-align: center;}#sk-container-id-8 div.sk-container {/* jupyter's `normalize.less` sets `[hidden] { display: none; }` but bootstrap.min.css set `[hidden] { display: none !important; }` so we also need the `!important` here to be able to override the default hidden behavior on the sphinx rendered scikit-learn.org. See: https://github.com/scikit-learn/scikit-learn/issues/21755 */display: inline-block !important;position: relative;}#sk-container-id-8 div.sk-text-repr-fallback {display: none;}</style><div id=\"sk-container-id-8\" class=\"sk-top-container\"><div class=\"sk-text-repr-fallback\"><pre>Ridge(alpha=9)</pre><b>In a Jupyter environment, please rerun this cell to show the HTML representation or trust the notebook. <br />On GitHub, the HTML representation is unable to render, please try loading this page with nbviewer.org.</b></div><div class=\"sk-container\" hidden><div class=\"sk-item\"><div class=\"sk-estimator sk-toggleable\"><input class=\"sk-toggleable__control sk-hidden--visually\" id=\"sk-estimator-id-8\" type=\"checkbox\" checked><label for=\"sk-estimator-id-8\" class=\"sk-toggleable__label sk-toggleable__label-arrow\">Ridge</label><div class=\"sk-toggleable__content\"><pre>Ridge(alpha=9)</pre></div></div></div></div></div>"
      ],
      "text/plain": [
       "Ridge(alpha=9)"
      ]
     },
     "execution_count": 78,
     "metadata": {},
     "output_type": "execute_result"
    }
   ],
   "source": [
    "rid = Ridge(alpha = 9)\n",
    "rid.fit(X_train1, Y_train1)"
   ]
  },
  {
   "cell_type": "markdown",
   "id": "012dd697",
   "metadata": {},
   "source": [
    "#### Model predicition"
   ]
  },
  {
   "cell_type": "code",
   "execution_count": 79,
   "id": "609d186b",
   "metadata": {},
   "outputs": [],
   "source": [
    "# Training data prediction\n",
    "y_pred_ridge_train = rid.predict(X_train1)\n",
    "\n",
    "# Testing data prediction\n",
    "y_pred_ridge_test = rid.predict(X_test1)"
   ]
  },
  {
   "cell_type": "markdown",
   "id": "addcc37f",
   "metadata": {},
   "source": [
    "#### Compare the new predicted weights by the model."
   ]
  },
  {
   "cell_type": "code",
   "execution_count": 80,
   "id": "139fdacf",
   "metadata": {},
   "outputs": [
    {
     "name": "stdout",
     "output_type": "stream",
     "text": [
      "Actual weight\n",
      "\n",
      " [[58.17 ]\n",
      " [58.5  ]\n",
      " [55.5  ]\n",
      " [55.7  ]\n",
      " [59.1  ]\n",
      " [55.25 ]\n",
      " [58.733]] \n",
      "\n",
      " Predicted weight\n",
      "\n",
      " [[58.74]\n",
      " [59.11]\n",
      " [55.38]\n",
      " [55.38]\n",
      " [59.48]\n",
      " [55.07]\n",
      " [59.17]]\n"
     ]
    }
   ],
   "source": [
    "print('Actual weight\\n\\n', Y_test1,'\\n\\n Predicted weight\\n\\n', y_pred_ridge_test.round(2))"
   ]
  },
  {
   "cell_type": "markdown",
   "id": "8b58a0f8",
   "metadata": {},
   "source": [
    "• We have seen better proximity in comparison with the predicted values using linear regression."
   ]
  },
  {
   "cell_type": "markdown",
   "id": "e6439620",
   "metadata": {},
   "source": [
    "### Data visualization"
   ]
  },
  {
   "cell_type": "markdown",
   "id": "f79399d5",
   "metadata": {},
   "source": [
    "###### scatter plot for  Training data "
   ]
  },
  {
   "cell_type": "code",
   "execution_count": 81,
   "id": "8f2fa4fb",
   "metadata": {},
   "outputs": [
    {
     "data": {
      "image/png": "[encoded data removed]",
      "text/plain": [
       "<Figure size 640x480 with 1 Axes>"
      ]
     },
     "metadata": {},
     "output_type": "display_data"
    }
   ],
   "source": [
    "plt.scatter(X_train1,Y_train1, color='blue')\n",
    "\n",
    "# recall that, regression line is a prediction line. Hence, the second object has to be the predicted function of the dataset\n",
    "plt.plot(X_train1,rid.predict(X_train1),color='red') \n",
    "        \n",
    "plt.xlabel('Height (cm)')\n",
    "plt.ylabel('Weight (kg)')\n",
    "plt.title('Weight VS Height')\n",
    "\n",
    "plt.show()"
   ]
  },
  {
   "cell_type": "markdown",
   "id": "43e68527",
   "metadata": {},
   "source": [
    " We have seen a little deviation of the training data points from the regression line after a penalty was introduced. There by reducing over fitting of the training data.\n",
    " \n",
    "Recall that before the introduction of biasness, the predicted or regression line fitted the training data points with almost 100% accuracy."
   ]
  },
  {
   "cell_type": "code",
   "execution_count": null,
   "id": "4c9eccc0",
   "metadata": {},
   "outputs": [],
   "source": []
  },
  {
   "cell_type": "markdown",
   "id": "a62fae00",
   "metadata": {},
   "source": [
    "###### scatter plot for  Test data "
   ]
  },
  {
   "cell_type": "code",
   "execution_count": 82,
   "id": "f7ac669c",
   "metadata": {},
   "outputs": [
    {
     "data": {
      "image/png": "[encoded data removed]",
      "text/plain": [
       "<Figure size 640x480 with 1 Axes>"
      ]
     },
     "metadata": {},
     "output_type": "display_data"
    }
   ],
   "source": [
    "plt.scatter(X_test1,Y_test1, color='blue')\n",
    "\n",
    "# recall that, regression line is a prediction line. Hence, the second object has to be the predicted function of the dataset\n",
    "plt.plot(X_test1,rid.predict(X_test1),color='red') \n",
    "        \n",
    "plt.xlabel('Height (cm)')\n",
    "plt.ylabel('Weight (kg)')\n",
    "plt.title('Weight VS Height')\n",
    "\n",
    "plt.show()"
   ]
  },
  {
   "cell_type": "markdown",
   "id": "6b8c6f20",
   "metadata": {},
   "source": [
    "This scatter plot showed a better result with the test data now closer to the regression line than."
   ]
  },
  {
   "cell_type": "markdown",
   "id": "2a2b66d3",
   "metadata": {},
   "source": [
    "#### R Squared values"
   ]
  },
  {
   "cell_type": "code",
   "execution_count": 83,
   "id": "3dd7f11a",
   "metadata": {},
   "outputs": [
    {
     "name": "stdout",
     "output_type": "stream",
     "text": [
      "R square values:- goodness of fit\n",
      "Training data:  0.96 Testing data:  0.933\n"
     ]
    }
   ],
   "source": [
    "# Training data r square value\n",
    "r_square_train = r2_score(Y_train1, y_pred_ridge_train)\n",
    "\n",
    "# Testing data r square value\n",
    "r_square_test = r2_score(Y_test1, y_pred_ridge_test)\n",
    "\n",
    "print('R square values:- goodness of fit')\n",
    "print('Training data: ', r_square_train.round(3),'Testing data: ',r_square_test.round(3) )"
   ]
  },
  {
   "cell_type": "markdown",
   "id": "522587fd",
   "metadata": {},
   "source": [
    "It is awesome to see how the accuracy of testing data increased from 78% to 95%\n",
    "And the reduction of the training data accuracy. The model is has performed significantly for both dataset. Hence we can trust the model to predict unforseen or futre data."
   ]
  },
  {
   "cell_type": "markdown",
   "id": "beef6515",
   "metadata": {},
   "source": [
    "#### Let us build a template for our model to predict weight with any value of height."
   ]
  },
  {
   "cell_type": "code",
   "execution_count": 84,
   "id": "5f3ce675",
   "metadata": {},
   "outputs": [
    {
     "name": "stdout",
     "output_type": "stream",
     "text": [
      "[[65.94]]\n"
     ]
    }
   ],
   "source": [
    "height = 180\n",
    "\n",
    "tran_height = np.reshape(height,(1,1))\n",
    "pred_weight = rid.predict(tran_height)\n",
    "\n",
    "print(pred_weight.round(2))"
   ]
  },
  {
   "cell_type": "code",
   "execution_count": null,
   "id": "9a750d3b",
   "metadata": {},
   "outputs": [],
   "source": []
  },
  {
   "cell_type": "markdown",
   "id": "1616ad94",
   "metadata": {},
   "source": [
    "### LASSO REGRESSION"
   ]
  },
  {
   "cell_type": "markdown",
   "id": "b6551080",
   "metadata": {},
   "source": [
    "Lasso regression also makes a model simpler by reducing complexity. It avoids overfitting and high variance. Just like Ridge regression. \n",
    "Lasso regression simplifies the model by reducing the magnitude of the coefficient. When the magnitude of coefficient reduces, it ultimately reduces the computational power by adding penalty.\n",
    "NOTE: In fitting our model, the value of Alpha(labda) denotes the severity of a penalty.\n",
    "\n",
    "NOTE:::::: By adding the penalty using Lasso Regression Equation, the value of the coefficient can be reduced or shrinked to zero. When this happens, the associated independent variable to the coefficient becomes zero as well. It simply means it is a least contributing to the target or dependent variable and such should be removed from the model. Thus making the model simple.\n",
    "\n",
    "This is different in the case of Ridge regression equation, the coefficient can be reduced or shrinked close to zero but never exactly zero.\n",
    "\n"
   ]
  },
  {
   "cell_type": "code",
   "execution_count": null,
   "id": "cc8a270d",
   "metadata": {},
   "outputs": [],
   "source": []
  },
  {
   "cell_type": "code",
   "execution_count": 85,
   "id": "455e89c1",
   "metadata": {},
   "outputs": [],
   "source": [
    "# import the ridge regression class\n",
    "from sklearn.linear_model import Lasso"
   ]
  },
  {
   "cell_type": "code",
   "execution_count": 86,
   "id": "c25e980f",
   "metadata": {},
   "outputs": [],
   "source": [
    "X = dataset.iloc[0:,0].values  # height of an individual\n",
    "Y = dataset.iloc[0:,1].values  # weight of an individual"
   ]
  },
  {
   "cell_type": "code",
   "execution_count": 87,
   "id": "2a385df2",
   "metadata": {},
   "outputs": [],
   "source": [
    "# Split the data set into training and testing data\n",
    "\n",
    "X_train,X_test, Y_train, Y_test = train_test_split(X,Y, test_size=0.7, random_state=0)"
   ]
  },
  {
   "cell_type": "markdown",
   "id": "b2ba5707",
   "metadata": {},
   "source": [
    "#### Transform the training and testing data into a two dimentional array"
   ]
  },
  {
   "cell_type": "code",
   "execution_count": 88,
   "id": "9f8bbb07",
   "metadata": {},
   "outputs": [],
   "source": [
    "X_train1 = np.reshape(X_train, (-1,1))\n",
    "Y_train1 = np.reshape(Y_train, (-1,1))\n",
    "\n",
    "X_test1 = np.reshape(X_test, (-1,1))\n",
    "Y_test1 = np.reshape(Y_test, (-1,1))"
   ]
  },
  {
   "cell_type": "markdown",
   "id": "d513b468",
   "metadata": {},
   "source": [
    "#### Instantiate the Lasso regression class and fit the model on the training data"
   ]
  },
  {
   "cell_type": "code",
   "execution_count": 102,
   "id": "093bb996",
   "metadata": {},
   "outputs": [
    {
     "data": {
      "text/html": [
       "<style>#sk-container-id-11 {color: black;}#sk-container-id-11 pre{padding: 0;}#sk-container-id-11 div.sk-toggleable {background-color: white;}#sk-container-id-11 label.sk-toggleable__label {cursor: pointer;display: block;width: 100%;margin-bottom: 0;padding: 0.3em;box-sizing: border-box;text-align: center;}#sk-container-id-11 label.sk-toggleable__label-arrow:before {content: \"▸\";float: left;margin-right: 0.25em;color: #696969;}#sk-container-id-11 label.sk-toggleable__label-arrow:hover:before {color: black;}#sk-container-id-11 div.sk-estimator:hover label.sk-toggleable__label-arrow:before {color: black;}#sk-container-id-11 div.sk-toggleable__content {max-height: 0;max-width: 0;overflow: hidden;text-align: left;background-color: #f0f8ff;}#sk-container-id-11 div.sk-toggleable__content pre {margin: 0.2em;color: black;border-radius: 0.25em;background-color: #f0f8ff;}#sk-container-id-11 input.sk-toggleable__control:checked~div.sk-toggleable__content {max-height: 200px;max-width: 100%;overflow: auto;}#sk-container-id-11 input.sk-toggleable__control:checked~label.sk-toggleable__label-arrow:before {content: \"▾\";}#sk-container-id-11 div.sk-estimator input.sk-toggleable__control:checked~label.sk-toggleable__label {background-color: #d4ebff;}#sk-container-id-11 div.sk-label input.sk-toggleable__control:checked~label.sk-toggleable__label {background-color: #d4ebff;}#sk-container-id-11 input.sk-hidden--visually {border: 0;clip: rect(1px 1px 1px 1px);clip: rect(1px, 1px, 1px, 1px);height: 1px;margin: -1px;overflow: hidden;padding: 0;position: absolute;width: 1px;}#sk-container-id-11 div.sk-estimator {font-family: monospace;background-color: #f0f8ff;border: 1px dotted black;border-radius: 0.25em;box-sizing: border-box;margin-bottom: 0.5em;}#sk-container-id-11 div.sk-estimator:hover {background-color: #d4ebff;}#sk-container-id-11 div.sk-parallel-item::after {content: \"\";width: 100%;border-bottom: 1px solid gray;flex-grow: 1;}#sk-container-id-11 div.sk-label:hover label.sk-toggleable__label {background-color: #d4ebff;}#sk-container-id-11 div.sk-serial::before {content: \"\";position: absolute;border-left: 1px solid gray;box-sizing: border-box;top: 0;bottom: 0;left: 50%;z-index: 0;}#sk-container-id-11 div.sk-serial {display: flex;flex-direction: column;align-items: center;background-color: white;padding-right: 0.2em;padding-left: 0.2em;position: relative;}#sk-container-id-11 div.sk-item {position: relative;z-index: 1;}#sk-container-id-11 div.sk-parallel {display: flex;align-items: stretch;justify-content: center;background-color: white;position: relative;}#sk-container-id-11 div.sk-item::before, #sk-container-id-11 div.sk-parallel-item::before {content: \"\";position: absolute;border-left: 1px solid gray;box-sizing: border-box;top: 0;bottom: 0;left: 50%;z-index: -1;}#sk-container-id-11 div.sk-parallel-item {display: flex;flex-direction: column;z-index: 1;position: relative;background-color: white;}#sk-container-id-11 div.sk-parallel-item:first-child::after {align-self: flex-end;width: 50%;}#sk-container-id-11 div.sk-parallel-item:last-child::after {align-self: flex-start;width: 50%;}#sk-container-id-11 div.sk-parallel-item:only-child::after {width: 0;}#sk-container-id-11 div.sk-dashed-wrapped {border: 1px dashed gray;margin: 0 0.4em 0.5em 0.4em;box-sizing: border-box;padding-bottom: 0.4em;background-color: white;}#sk-container-id-11 div.sk-label label {font-family: monospace;font-weight: bold;display: inline-block;line-height: 1.2em;}#sk-container-id-11 div.sk-label-container {text-align: center;}#sk-container-id-11 div.sk-container {/* jupyter's `normalize.less` sets `[hidden] { display: none; }` but bootstrap.min.css set `[hidden] { display: none !important; }` so we also need the `!important` here to be able to override the default hidden behavior on the sphinx rendered scikit-learn.org. See: https://github.com/scikit-learn/scikit-learn/issues/21755 */display: inline-block !important;position: relative;}#sk-container-id-11 div.sk-text-repr-fallback {display: none;}</style><div id=\"sk-container-id-11\" class=\"sk-top-container\"><div class=\"sk-text-repr-fallback\"><pre>Lasso(alpha=2)</pre><b>In a Jupyter environment, please rerun this cell to show the HTML representation or trust the notebook. <br />On GitHub, the HTML representation is unable to render, please try loading this page with nbviewer.org.</b></div><div class=\"sk-container\" hidden><div class=\"sk-item\"><div class=\"sk-estimator sk-toggleable\"><input class=\"sk-toggleable__control sk-hidden--visually\" id=\"sk-estimator-id-11\" type=\"checkbox\" checked><label for=\"sk-estimator-id-11\" class=\"sk-toggleable__label sk-toggleable__label-arrow\">Lasso</label><div class=\"sk-toggleable__content\"><pre>Lasso(alpha=2)</pre></div></div></div></div></div>"
      ],
      "text/plain": [
       "Lasso(alpha=2)"
      ]
     },
     "execution_count": 102,
     "metadata": {},
     "output_type": "execute_result"
    }
   ],
   "source": [
    "lass = Lasso(alpha = 2) # Note: The choice of alpha is quite sensitive.\n",
    "lass.fit(X_train1, Y_train1)"
   ]
  },
  {
   "cell_type": "markdown",
   "id": "aa398830",
   "metadata": {},
   "source": [
    "**Note that the choice of alpha=2 gave least difference between the training and testing data.**"
   ]
  },
  {
   "cell_type": "markdown",
   "id": "837d1346",
   "metadata": {},
   "source": [
    "#### Model predicition"
   ]
  },
  {
   "cell_type": "code",
   "execution_count": 103,
   "id": "73196089",
   "metadata": {},
   "outputs": [],
   "source": [
    "# Training data prediction\n",
    "y_pred_lasso_train = lass.predict(X_train1)\n",
    "\n",
    "# Testing data prediction\n",
    "y_pred_lasso_test = lass.predict(X_test1)"
   ]
  },
  {
   "cell_type": "markdown",
   "id": "28022777",
   "metadata": {},
   "source": [
    "#### Compare the actual price vs the price predicted"
   ]
  },
  {
   "cell_type": "code",
   "execution_count": 104,
   "id": "f09bc5cc",
   "metadata": {},
   "outputs": [
    {
     "name": "stdout",
     "output_type": "stream",
     "text": [
      "Actual weight\n",
      "\n",
      " [[58.17 ]\n",
      " [58.5  ]\n",
      " [55.5  ]\n",
      " [55.7  ]\n",
      " [59.1  ]\n",
      " [55.25 ]\n",
      " [58.733]] \n",
      "\n",
      " Predicted weight\n",
      "\n",
      " [58.72 59.09 55.42 55.42 59.45 55.12 59.15]\n"
     ]
    }
   ],
   "source": [
    "print('Actual weight\\n\\n', Y_test1,'\\n\\n Predicted weight\\n\\n', y_pred_lasso_test.round(2))"
   ]
  },
  {
   "cell_type": "markdown",
   "id": "47afa95f",
   "metadata": {},
   "source": [
    "This shows better proximity than Ridge regression but let us see the datasets on a scatter plot."
   ]
  },
  {
   "cell_type": "code",
   "execution_count": null,
   "id": "8f6d6a69",
   "metadata": {},
   "outputs": [],
   "source": []
  },
  {
   "cell_type": "markdown",
   "id": "4e569431",
   "metadata": {},
   "source": [
    "### DATA VISUALIZATION"
   ]
  },
  {
   "cell_type": "markdown",
   "id": "df08f5cd",
   "metadata": {},
   "source": [
    "###### scatter plot for  Training data "
   ]
  },
  {
   "cell_type": "code",
   "execution_count": 105,
   "id": "4e69bf10",
   "metadata": {},
   "outputs": [
    {
     "data": {
      "image/png": "[encoded data removed]",
      "text/plain": [
       "<Figure size 640x480 with 1 Axes>"
      ]
     },
     "metadata": {},
     "output_type": "display_data"
    }
   ],
   "source": [
    "plt.scatter(X_train1,Y_train1, color='blue')\n",
    "\n",
    "# recall that, regression line is a prediction line. Hence, the second object has to be the predicted function of the dataset\n",
    "plt.plot(X_train1,lass.predict(X_train1),color='red') \n",
    "        \n",
    "plt.xlabel('Height (cm)')\n",
    "plt.ylabel('Weight (kg)')\n",
    "plt.title('Weight VS Height')\n",
    "\n",
    "plt.show()"
   ]
  },
  {
   "cell_type": "markdown",
   "id": "07e43154",
   "metadata": {},
   "source": [
    "The regression does not fit the data with much accuracy unlike deviates unlike when no penalty was introduced."
   ]
  },
  {
   "cell_type": "markdown",
   "id": "f980318c",
   "metadata": {},
   "source": [
    "###   scatter plot for  Test data "
   ]
  },
  {
   "cell_type": "code",
   "execution_count": 106,
   "id": "70a8205f",
   "metadata": {},
   "outputs": [
    {
     "data": {
      "image/png": "[encoded data removed]",
      "text/plain": [
       "<Figure size 640x480 with 1 Axes>"
      ]
     },
     "metadata": {},
     "output_type": "display_data"
    }
   ],
   "source": [
    "plt.scatter(X_test1,Y_test1, color='blue')\n",
    "\n",
    "# recall that, regression line is a prediction line. Hence, the second object has to be the predicted function of the dataset\n",
    "plt.plot(X_test1,lass.predict(X_test1),color='red') \n",
    "        \n",
    "plt.xlabel('Height (cm)')\n",
    "plt.ylabel('Weight (kg)')\n",
    "plt.title('Weight VS Height')\n",
    "\n",
    "plt.show()"
   ]
  },
  {
   "cell_type": "markdown",
   "id": "8821f311",
   "metadata": {},
   "source": [
    "#### R Squared values"
   ]
  },
  {
   "cell_type": "code",
   "execution_count": 107,
   "id": "7f266d40",
   "metadata": {},
   "outputs": [
    {
     "name": "stdout",
     "output_type": "stream",
     "text": [
      "R square values:- goodness of fit\n",
      "Training data:  0.955 Testing data:  0.94\n"
     ]
    }
   ],
   "source": [
    "# Training data r square value\n",
    "lasso_r_square_train = r2_score(Y_train1, y_pred_lasso_train)\n",
    "\n",
    "# Testing data r square value\n",
    "lasso_r_square_test = r2_score(Y_test1, y_pred_lasso_test)\n",
    "      \n",
    "print('R square values:- goodness of fit')\n",
    "print('Training data: ', lasso_r_square_train.round(3),'Testing data: ',lasso_r_square_test.round(3) )"
   ]
  },
  {
   "cell_type": "markdown",
   "id": "c43b8dcc",
   "metadata": {},
   "source": [
    "We have succeeded in reducing the overfitting in the training data and differences in the performance of our model on both the training and testing data has now been reduced. "
   ]
  },
  {
   "cell_type": "markdown",
   "id": "8a317c03",
   "metadata": {},
   "source": [
    "### Let us build a template for our model to predict weight with any value of height Lasso, Ridge and Linear regression"
   ]
  },
  {
   "cell_type": "markdown",
   "id": "f00bca7a",
   "metadata": {},
   "source": [
    "Here we will predict the weight with any value of height entered in 'cm'"
   ]
  },
  {
   "cell_type": "markdown",
   "id": "aef1ba2b",
   "metadata": {},
   "source": [
    "#### For Lasso Regression"
   ]
  },
  {
   "cell_type": "code",
   "execution_count": 108,
   "id": "80f5a3a2",
   "metadata": {},
   "outputs": [
    {
     "name": "stdout",
     "output_type": "stream",
     "text": [
      "[65.8]\n"
     ]
    }
   ],
   "source": [
    "height = 180\n",
    "\n",
    "transformed_height = np.reshape(height,(1,1))\n",
    "predicted_weight = lass.predict(transformed_height)\n",
    "\n",
    "print(predicted_weight.round(2))"
   ]
  },
  {
   "cell_type": "markdown",
   "id": "e5e20014",
   "metadata": {},
   "source": [
    "Here, the model has predicted the weight of an individual of height 180cm to be 65.8KG."
   ]
  },
  {
   "cell_type": "markdown",
   "id": "ce8f5303",
   "metadata": {},
   "source": [
    "#### For Ridge Regression"
   ]
  },
  {
   "cell_type": "code",
   "execution_count": 110,
   "id": "bf8f73b2",
   "metadata": {},
   "outputs": [
    {
     "name": "stdout",
     "output_type": "stream",
     "text": [
      "[[65.94]]\n"
     ]
    }
   ],
   "source": [
    "height = 180\n",
    "\n",
    "tran_height = np.reshape(height,(1,1))\n",
    "pred_weight = rid.predict(tran_height)\n",
    "\n",
    "print(pred_weight.round(2))"
   ]
  },
  {
   "cell_type": "markdown",
   "id": "9e77a09a",
   "metadata": {},
   "source": [
    "Ridge predicted weight is 0.14KG higher than Lasso"
   ]
  },
  {
   "cell_type": "markdown",
   "id": "e84c7c61",
   "metadata": {},
   "source": [
    "#### For Linear Regression"
   ]
  },
  {
   "cell_type": "code",
   "execution_count": 111,
   "id": "ae23c588",
   "metadata": {},
   "outputs": [
    {
     "name": "stdout",
     "output_type": "stream",
     "text": [
      "[[67.31]]\n"
     ]
    }
   ],
   "source": [
    "height = 180\n",
    "\n",
    "tran_height = np.reshape(height,(1,1))\n",
    "pred_weight = lin_regressor.predict(tran_height)\n",
    "\n",
    "print(pred_weight.round(2))"
   ]
  },
  {
   "cell_type": "markdown",
   "id": "e13afcf3",
   "metadata": {},
   "source": [
    "The predicted weight by the Linear regression is a bit higher than any of those two."
   ]
  },
  {
   "cell_type": "code",
   "execution_count": null,
   "id": "c5b7b8ed",
   "metadata": {},
   "outputs": [],
   "source": []
  },
  {
   "cell_type": "markdown",
   "id": "7a07910c",
   "metadata": {},
   "source": [
    "**Comparing the models’ performances of how well the data fit the regression line respectively.**\n",
    "\n",
    "•The proportions of variances in the dependent variable that can be explained by the independent variable’s’ in the Linear, Ridge and Lasso regressions are as follows.\n"
   ]
  },
  {
   "cell_type": "markdown",
   "id": "c1c7fb0e",
   "metadata": {},
   "source": [
    "#### Linear Regression"
   ]
  },
  {
   "cell_type": "markdown",
   "id": "f40bfc73",
   "metadata": {},
   "source": [
    "Training and test data R Squared values were 98% and 78%. This shows that the model failed to perform well on the test data. However, 78% is not bad. However, the model's performance on the train data is 20% more efficient than the test data."
   ]
  },
  {
   "cell_type": "markdown",
   "id": "a913826a",
   "metadata": {},
   "source": [
    "#### Ridge Regression"
   ]
  },
  {
   "cell_type": "markdown",
   "id": "8325a653",
   "metadata": {},
   "source": [
    "The Ridge regression has introduced some biasness (alpha = 9) and boosted the performance of the model on the test data as follows:\n",
    "R Squared value on training data was 96% and Testing data was 93%.\n",
    "This is a great performance with a difference of 3% on the model's performance on the training data compared to the the test data."
   ]
  },
  {
   "cell_type": "markdown",
   "id": "e97d3584",
   "metadata": {},
   "source": [
    "#### Lasso Regression"
   ]
  },
  {
   "cell_type": "markdown",
   "id": "20df231b",
   "metadata": {},
   "source": [
    "Lasso seems too perfect than one expected as the performance of the model on a penalty of 2 gave the best goodness of fit as we see R Squared values for the training and testing data were 95% and 94% respectively.\n",
    "The difference between values of both the testing and training data was just 1%."
   ]
  }
 ],
 "metadata": {
  "kernelspec": {
   "display_name": "Python 3 (ipykernel)",
   "language": "python",
   "name": "python3"
  },
  "language_info": {
   "codemirror_mode": {
    "name": "ipython",
    "version": 3
   },
   "file_extension": ".py",
   "mimetype": "text/x-python",
   "name": "python",
   "nbconvert_exporter": "python",
   "pygments_lexer": "ipython3",
   "version": "3.10.9"
  }
 },
 "nbformat": 4,
 "nbformat_minor": 5
}
